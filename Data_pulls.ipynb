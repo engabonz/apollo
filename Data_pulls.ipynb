{
  "nbformat": 4,
  "nbformat_minor": 0,
  "metadata": {
    "colab": {
      "name": "Data pulls.ipynb",
      "provenance": [],
      "collapsed_sections": [],
      "toc_visible": true,
      "include_colab_link": true
    },
    "kernelspec": {
      "name": "python3",
      "display_name": "Python 3"
    }
  },
  "cells": [
    {
      "cell_type": "markdown",
      "metadata": {
        "id": "view-in-github",
        "colab_type": "text"
      },
      "source": [
        "<a href=\"https://colab.research.google.com/github/jnrkufuor/apollo/blob/Ryan/Data_pulls.ipynb\" target=\"_parent\"><img src=\"https://colab.research.google.com/assets/colab-badge.svg\" alt=\"Open In Colab\"/></a>"
      ]
    },
    {
      "cell_type": "markdown",
      "metadata": {
        "id": "3tTkOuVyGqJE"
      },
      "source": [
        "\r\n",
        "\r\n",
        "## 2. GoogleNews"
      ]
    },
    {
      "cell_type": "code",
      "metadata": {
        "id": "fr-vGUuDsoSV",
        "colab": {
          "base_uri": "https://localhost:8080/"
        },
        "outputId": "d9322895-b6fa-424c-bc03-73b1b5173a35"
      },
      "source": [
        "#from pygooglenews import GoogleNews\n",
        "import numpy as np\n",
        "import pandas as pd\n",
        "#!pip install GoogleNews\n",
        "from GoogleNews import GoogleNews\n",
        "\n",
        "from google.colab import drive\n",
        "\n",
        "drive.mount('/content/drive')\n",
        "\n",
        "gns = GoogleNews()\n",
        "gns=GoogleNews(period='7d')\n",
        "gns.search('Apple')\n",
        "df_gns=pd.DataFrame(gns.result())\n",
        "df_gns.shape\n",
        "#zb=pd.Series(np.zeros(70))\n",
        "#business = gn.topic_headlines('business', from_ = '2021-03-01', to_ = '2021-03-05')\n",
        "#for i in range(0,70):\n",
        "#  zb.iloc[i]=business['entries'][i]['link']\n",
        "\n",
        "#zb.iloc[4]\n",
        "\n",
        "#len(business['entries'])\n",
        "\n",
        "#from newscatcher import Newscatcher\n",
        "#from newscatcher import describe_url\n",
        "\n",
        "#describe_url('news.google.com')\n",
        "\n",
        "\n",
        "\n",
        "#nc=Newscatcher(website='news.google.com', topic='finance')\n",
        "#results=nc.get_news()\n",
        "#results\n",
        "\n"
      ],
      "execution_count": 10,
      "outputs": [
        {
          "output_type": "execute_result",
          "data": {
            "text/plain": [
              "(10, 7)"
            ]
          },
          "metadata": {
            "tags": []
          },
          "execution_count": 10
        }
      ]
    },
    {
      "cell_type": "markdown",
      "metadata": {
        "id": "hnu5oi_lGuy_"
      },
      "source": [
        "3. GDELT"
      ]
    },
    {
      "cell_type": "code",
      "metadata": {
        "id": "0C-mOT1Ks-TM",
        "colab": {
          "base_uri": "https://localhost:8080/"
        },
        "outputId": "e643d9ae-6cc8-4e9f-f7ea-2d6d0927deda"
      },
      "source": [
        "!pip install goose3\n",
        "from goose3 import Goose\n",
        "from goose3.configuration import Configuration\n",
        "\n",
        "import numpy as np\n",
        "\n",
        "df = pd.read_csv('/content/drive/My Drive/jan24newslinks_new.csv')\n",
        "\n",
        "df[\"Content\"]=(np.zeros(len(df.iloc[:,1])))\n",
        "df[\"Title\"]=(np.zeros(len(df.iloc[:,1])))\n",
        "df[\"Domain\"]=(np.zeros(len(df.iloc[:,1])))\n",
        "\n",
        "\n",
        "g = Goose()\n",
        "\n",
        "\n",
        "with Goose({'http_timeout': 5.0}) as g:\n",
        "    pass\n",
        "for i in range(0,1000):\n",
        "  try:\n",
        "    df.iloc[i,2]=(g.extract(url=df.iloc[i,1])).cleaned_text\n",
        "    df.iloc[i,3]=(g.extract(url=df.iloc[i,1])).title\n",
        "    df.iloc[i,4]=(g.extract(url=df.iloc[i,1])).domain\n",
        "  except:\n",
        "    df.iloc[i,2]=\"Missing_Article\"\n",
        "\n",
        "df.head"
      ],
      "execution_count": null,
      "outputs": [
        {
          "output_type": "stream",
          "text": [
            "Requirement already satisfied: goose3 in /usr/local/lib/python3.7/dist-packages (3.1.8)\n",
            "Requirement already satisfied: jieba in /usr/local/lib/python3.7/dist-packages (from goose3) (0.42.1)\n",
            "Requirement already satisfied: beautifulsoup4 in /usr/local/lib/python3.7/dist-packages (from goose3) (4.6.3)\n",
            "Requirement already satisfied: python-dateutil in /usr/local/lib/python3.7/dist-packages (from goose3) (2.8.1)\n",
            "Requirement already satisfied: requests in /usr/local/lib/python3.7/dist-packages (from goose3) (2.23.0)\n",
            "Requirement already satisfied: nltk in /usr/local/lib/python3.7/dist-packages (from goose3) (3.2.5)\n",
            "Requirement already satisfied: cssselect in /usr/local/lib/python3.7/dist-packages (from goose3) (1.1.0)\n",
            "Requirement already satisfied: lxml in /usr/local/lib/python3.7/dist-packages (from goose3) (4.2.6)\n",
            "Requirement already satisfied: Pillow in /usr/local/lib/python3.7/dist-packages (from goose3) (7.0.0)\n",
            "Requirement already satisfied: six>=1.5 in /usr/local/lib/python3.7/dist-packages (from python-dateutil->goose3) (1.15.0)\n",
            "Requirement already satisfied: idna<3,>=2.5 in /usr/local/lib/python3.7/dist-packages (from requests->goose3) (2.10)\n",
            "Requirement already satisfied: urllib3!=1.25.0,!=1.25.1,<1.26,>=1.21.1 in /usr/local/lib/python3.7/dist-packages (from requests->goose3) (1.24.3)\n",
            "Requirement already satisfied: certifi>=2017.4.17 in /usr/local/lib/python3.7/dist-packages (from requests->goose3) (2020.12.5)\n",
            "Requirement already satisfied: chardet<4,>=3.0.2 in /usr/local/lib/python3.7/dist-packages (from requests->goose3) (3.0.4)\n",
            "Mounted at /content/drive\n",
            "YA DINGUS\n"
          ],
          "name": "stdout"
        },
        {
          "output_type": "execute_result",
          "data": {
            "text/plain": [
              "<bound method NDFrame.head of        Unnamed: 0  ...                         Domain\n",
              "0               1  ...        www.dailymercury.com.au\n",
              "1               2  ...  www.sunshinecoastdaily.com.au\n",
              "2               3  ...            www.dailymail.co.uk\n",
              "3               4  ...       www.bankinfosecurity.com\n",
              "4               5  ...            www.fijivillage.com\n",
              "...           ...  ...                            ...\n",
              "13953       13954  ...                              0\n",
              "13954       13955  ...                              0\n",
              "13955       13956  ...                              0\n",
              "13956       13957  ...                              0\n",
              "13957       13958  ...                              0\n",
              "\n",
              "[13958 rows x 5 columns]>"
            ]
          },
          "metadata": {
            "tags": []
          },
          "execution_count": 4
        }
      ]
    },
    {
      "cell_type": "code",
      "metadata": {
        "id": "yhQvkAbD_-g1",
        "colab": {
          "base_uri": "https://localhost:8080/"
        },
        "outputId": "872f63af-f363-45f8-acb2-0d958faf425e"
      },
      "source": [
        "#df.iloc[0:1000,:].to_csv('/content/drive/My Drive/jan24content.csv')\r\n",
        "#df.iloc[0:5,1]\r\n",
        "#df['Domain']=df.iloc[:,1].str.extract('\\.(.+?)\\.')\r\n",
        "df.iloc[0:1000,:].to_csv('/content/drive/My Drive/jan24contentfull.csv')\r\n",
        "df.columns"
      ],
      "execution_count": null,
      "outputs": [
        {
          "output_type": "execute_result",
          "data": {
            "text/plain": [
              "Index(['Unnamed: 0', 'x', 'Content', 'Title', 'Domain'], dtype='object')"
            ]
          },
          "metadata": {
            "tags": []
          },
          "execution_count": 7
        }
      ]
    },
    {
      "cell_type": "code",
      "metadata": {
        "id": "UKlapM-otNIT"
      },
      "source": [
        "df['date'] = pd.to_datetime(df['date'])\n",
        "day = '2020-04-01'\n",
        "df_day = df[df['date']==pd.to_datetime(day)][['date', 'domain', 'title', 'content']]"
      ],
      "execution_count": null,
      "outputs": []
    }
  ]
}